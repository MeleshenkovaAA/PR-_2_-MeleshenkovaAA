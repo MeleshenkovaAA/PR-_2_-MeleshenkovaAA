{
  "nbformat": 4,
  "nbformat_minor": 0,
  "metadata": {
    "colab": {
      "provenance": []
    },
    "kernelspec": {
      "name": "python3",
      "display_name": "Python 3"
    },
    "language_info": {
      "name": "python"
    }
  },
  "cells": [
    {
      "cell_type": "code",
      "execution_count": 26,
      "metadata": {
        "id": "HoYXF6CG_5Zk"
      },
      "outputs": [],
      "source": [
        "import pandas as pd\n",
        "\n",
        "import requests\n",
        "import urllib.request\n",
        "from bs4 import BeautifulSoup\n",
        "\n",
        "import re\n",
        "\n",
        "import seaborn as sns\n",
        "import matplotlib.pyplot as plt"
      ]
    },
    {
      "cell_type": "code",
      "source": [
        "#1. Дивиденды российских и американских компаний — https://investmint.ru/"
      ],
      "metadata": {
        "id": "YjpcrSh3A1mY"
      },
      "execution_count": 27,
      "outputs": []
    },
    {
      "cell_type": "code",
      "source": [
        "url = 'https://investmint.ru/'"
      ],
      "metadata": {
        "id": "VxKf13__A18Y"
      },
      "execution_count": 28,
      "outputs": []
    },
    {
      "cell_type": "code",
      "source": [
        "response = requests.get(url)"
      ],
      "metadata": {
        "id": "7Fg3sPXlA7ZI"
      },
      "execution_count": 29,
      "outputs": []
    },
    {
      "cell_type": "code",
      "source": [
        "response"
      ],
      "metadata": {
        "colab": {
          "base_uri": "https://localhost:8080/"
        },
        "id": "AC65mURsBD7X",
        "outputId": "96f1196e-771f-4d65-bde2-e09788437ab6"
      },
      "execution_count": 30,
      "outputs": [
        {
          "output_type": "execute_result",
          "data": {
            "text/plain": [
              "<Response [403]>"
            ]
          },
          "metadata": {},
          "execution_count": 30
        }
      ]
    },
    {
      "cell_type": "code",
      "source": [
        "response.content"
      ],
      "metadata": {
        "colab": {
          "base_uri": "https://localhost:8080/"
        },
        "id": "lXzn0uVphD-2",
        "outputId": "3fd5989f-c155-44e2-cabf-3fba62ccff72"
      },
      "execution_count": 31,
      "outputs": [
        {
          "output_type": "execute_result",
          "data": {
            "text/plain": [
              "b'<!DOCTYPE html><html lang=\"en-US\"><head><title>Just a moment...</title><meta http-equiv=\"Content-Type\" content=\"text/html; charset=UTF-8\"><meta http-equiv=\"X-UA-Compatible\" content=\"IE=Edge\"><meta name=\"robots\" content=\"noindex,nofollow\"><meta name=\"viewport\" content=\"width=device-width,initial-scale=1\"><link href=\"/cdn-cgi/styles/challenges.css\" rel=\"stylesheet\"><meta http-equiv=\"refresh\" content=\"375\"></head><body class=\"no-js\"><div class=\"main-wrapper\" role=\"main\"><div class=\"main-content\"><noscript><div id=\"challenge-error-title\"><div class=\"h2\"><span class=\"icon-wrapper\"><div class=\"heading-icon warning-icon\"></div></span><span id=\"challenge-error-text\">Enable JavaScript and cookies to continue</span></div></div></noscript></div></div><script>(function(){window._cf_chl_opt={cvId: \\'2\\',cZone: \"investmint.ru\",cType: \\'managed\\',cNounce: \\'17024\\',cRay: \\'823772f329544a27\\',cHash: \\'86776ccbb5815b1\\',cUPMDTk: \"\\\\/?__cf_chl_tk=c.Us4vWmd8em8oyamClSZPGrm8H9AVd4AWCg58KeSDU-1699547517-0-gaNycGzNCmU\",cFPWv: \\'g\\',cTTimeMs: \\'1000\\',cMTimeMs: \\'375000\\',cTplV: 5,cTplB: \\'cf\\',cK: \"visitor-time\",fa: \"\\\\/?__cf_chl_f_tk=c.Us4vWmd8em8oyamClSZPGrm8H9AVd4AWCg58KeSDU-1699547517-0-gaNycGzNCmU\",md: \"Y7fdKn47qxIIT5M3JWX6PRbjkiNZTkkBOONM1YqvKak-1699547517-0-AWfaQZpig47VH3laiWa4coL-Sh-zEjZXc0wy3Uest9W4Rno1m2CrH3KNJQ8ZPijVLgR48rSwDZC818o6nfMQRmrzzlh5XmsmSEXrz5JmTyYLAQM5ZH7iN5HbZWFyEPtuoSsgz_IhSLRofEeUxGBs-AALhflYR-RrINqYBMZphEVYE8wfMM2USNulWvFVKnSK-gj67yLjiqaC-OA-OGN79E_1e3TCAw3Nr5qxQDphZPJEZY91_ZsmwLGcoP-Uy5SnxacKnrujqGCjgrL0ODBp8ZXHlffPgfYIzjDVGhU9MIj43cymHobKVn2FjT3_2MlVQp9PbeuMvNSNjPrh3o4YzebE8sggpu-x9rWzAK7Nf3SrLFCoQ9PYnkhtjSCUpbEIOJ2tYWKoMVp1-ycxl1xPfoZrZF3WJxYmIaaKPgQ8f7Vw_76-7iRkd8kJMz0uOGvdyWk1nrXbX_LUqbnnIby34GdUVlvwRCsZX-QuDjl0LGRcjyTfLHuc5vGjdHAkImqwCHnfjduMfejoTsEAkq6sVZSXoOTLApfQmPa-dMZmB5oyenndMGid-76a6IM9lzU2VBIe96xyxIWhH0NcQxaMnH1sdIGRr2le81ZKHhjmUZrraJuGy39fyjPMk9AtZkNM-xggOfPEwD0mvbkYyxesZhWyn0N_IGSnWLnxh44BWI1Lri9cztKRQhBJTF1PYpiIQWTkO2UK-NJxacMaMxhZ9DmkPbVM2YLJt3J_nAW7upzA_rKzYTG287Q4RFOjg1XcF4yK1NMWenKrfDRwqXiHxv5s8cSepyIyXYYkI4gfqs8-PiqMANMez2iMdHKbLuIgkt1680kmEIHKFSpekffFBHtYIeYMnbh8qn24mxAkOwJnZWjbKEXIztTqEb2EfLWzTI5AfNQNgtWAV0ailrtz4hGMKI3fWCeO45qHimBusU5DMAsP3ocfr2BWSw9pWiKQBqVEuSSu4cS_pFA-4HUnJ3g2ovFZOwLS58c1vScaMwIc8vUReFnhBIZAW6qHlTBcm7pB5EtRIN5QP3lZ4YQP_haBusJpshT4H6qqRIT1gjt0HJ3xwEo7WqvxNERWVGgRTdXQyNRJdUh2bcqgJGNxmssMKNAvJhRLnrd9uqtcWPsb9fsidARCoitTbFaNh8vaPW4PzYjyOGFBxsE3TLyojVYnBRDy5z3YPSNQ2NznlpJh_xxMlFySym_NmczAHfMtey1ehSUEqzeapcaE3GW2rbQLSpA__CLPvTJ1WYI3yYeq1rLN13qdGPzl0P6iOgytX6xNe3JyD36o2hG5oMO7Va7ycFNyZp1nEWkXGEiObF6uJA9E27uC55uVPebbB05nITStNlxMEp-0L108rq92bcAPga713M7v6_OVLv0uqHpiV7DYN2Nr1MmAw4gLPm79924R1aKojilkZL0GO_J1lXeTSCkW7SPylx59C9Bl4rza8G8ooJzIIufCYUynSF9MpH72RDeaGJi6p6vJRWCHVQNLmvH9wSlLRfaf54SIuMQLqkEIAw6np48nYVR3lDWL_sYpMc-Ylij-qVkzmDT_15O4mBbKJ7kxGuCJXkBq27KKBvm0qf4wxLKfEelMYN7azSN2jGvbAJPh5hlmPCykAx6n2PzXuTPf-IJn_iPHx3neJPIdyUOnAeqnhtwV4aag0Pg7GvF-K4sjejmuR2ELwhJ0v3WLIcjk1y2_weSjgXvJvD9XUUcPQUBh5EF9oXgkUdyvC67UchDGSNS6dJuEQYmpPb0G22LpY4AoAlKYw2nHvUkz4kslgy48NSOh7fOgI07P0qo9TDDggcadEz7WNzrRNy4hEXoBkb3AC_PxfZ_phI9tLhcs0laPfsVyV3Zy8L3y8129HhPtXYOdJyuQNCTLJ15OQbnIHFd9sJ-tgXuxUgBp1p_Gv4RsxTY5vjcAlVQpYrwUfC45U9rKvNCxWzcCulPNmTJQowxDYZSHweYIWXhT-sQcJRZTx_qqx7YBJ7WhZpNs0aN51pnJT3ThfGqQmax5wnxkvsQwYJwtEZNoNN8RpuXtE13fbRhbp_npGANUoMzt6mk2gX7WsFlO8eMy9f3JNSqAd6xl627_vxr6u8N6q-zxQF7XhekrHgLOrebJZjfg-jv5isqE5FZqrcxdsfnoePbgytL6rQzSqAOkTgVV-5krEGat0DoKhRCV38sLgjyWtxJBhKcfLuB0PaPBB8sKA4iisArfzEBhJvQjU0zy6gT19XyTgF_6Jmy01l36P-PyFB_az3B3JNn5GnQC8ZYDkzbbMpvdCgjeCaSxd08JS1XDGrHAq0vYbdi2pSS1CTBXZVRKNlyARP0coelE3ARRCfwsMTCWwoTws95DB4TI9EtOcX3ecJ7-v1kPepIZe42wrMGRyH0rZEC3564N3Vweht-W3Tu8_4ranalrrNbXBXKdbD1oPcb0S7K6106mZZVDoWm_vzGxXdZ3hScFuPvPZAZiNqm6XtiUn7QieW8jIci3ZlhyppmGANeVuEqZfhfVYLa9CzgAFc_wKL_XizKwMoOvywpChdY6hzsMLhOvKMMpbqpMEFg0M7aloS0vrUxeEULiYe1LCcIvtIc165U9_hzG-ceTM_9A_LpY\",cRq: {ru: \\'aHR0cHM6Ly9pbnZlc3RtaW50LnJ1Lw==\\',ra: \\'cHl0aG9uLXJlcXVlc3RzLzIuMzEuMA==\\',rm: \\'R0VU\\',d: \\'VxR92nGgtwD3B8l6o71GijZ1M1/a6GlCduDoKQ4R0mdhTmBohHx5h4uFk3tWN4sy+akARm+nnyXoN/b8x15CEcrkNEavtkPNH/qx3Xha/PdmB0THpA3pM1Y7y2zLhNEzJKmxSFD1jYtFjGBYbOPbWzVaEmY5Tn4yD8F1ZllUtk9MDzwcb9aXOeom+1EvcNcbogh2qzLbGYCvOU4rS8DvpdjsDmNgj7F3hMbe7rkb/c0BbcyPDaEZquh30lvQqjnJSsVAZtZ2gzQNBsiY4mD6VZAr9sSXg5xBqMyQ3SkTGWjN6NDmD5kAX467DL22WwVA3zpWjN3XDyKaxkpohQ5ZSwpEAFuc3WbiH1hNVatUXmtR5dDzX3RPIpmfs9gbBLahuy1W+PDZPv+2+cSW6ikI0Zm1sH70t+yPWRFnZNCPuIAzH22my1dqn0cY2BfbmLOnwpYa6T0ZhbditFuFXceUZBl3I7ecthwfB+bK6WKtwOg5I86Uu5OgveWgPpkjnqXYGH1ixenpmQACecIwx4s+3HuUQ9oLM4IrKxSioMzkFYMUnD4DQA3rYbaahCE/LcdOCrHVP3iA56Sjh/8mGADxfSg5Zy02EgtSwCvID97QEnQ=\\',t: \\'MTY5OTU0NzUxNy45NTIwMDA=\\',cT: Math.floor(Date.now() / 1000),m: \\'8E19dIeyGLAymll9eb4Oqa/Gxo7a6EJFfv+OsHbeEjU=\\',i1: \\'i5CRQJ/9bCyeKW7jZvzHcw==\\',i2: \\'CCpdvDCR7lnHBwoqk01SyA==\\',zh: \\'fhc8elcjCJdTtHwafgNBiMnDmGqJx4KCXHLgtJqgpBI=\\',uh: \\'YE9XOpG5TeHmhA1zfs5mxC8CrRZzq2a/+r+OU7dliYQ=\\',hh: \\'l3DB8MULqlTboHnQEgH54QY8+MhakuLVBCxs5Q+Hjx8=\\',}};var cpo = document.createElement(\\'script\\');cpo.src = \\'/cdn-cgi/challenge-platform/h/g/orchestrate/chl_page/v1?ray=823772f329544a27\\';window._cf_chl_opt.cOgUHash = location.hash === \\'\\' && location.href.indexOf(\\'#\\') !== -1 ? \\'#\\' : location.hash;window._cf_chl_opt.cOgUQuery = location.search === \\'\\' && location.href.slice(0, location.href.length - window._cf_chl_opt.cOgUHash.length).indexOf(\\'?\\') !== -1 ? \\'?\\' : location.search;if (window.history && window.history.replaceState) {var ogU = location.pathname + window._cf_chl_opt.cOgUQuery + window._cf_chl_opt.cOgUHash;history.replaceState(null, null, \"\\\\/?__cf_chl_rt_tk=c.Us4vWmd8em8oyamClSZPGrm8H9AVd4AWCg58KeSDU-1699547517-0-gaNycGzNCmU\" + window._cf_chl_opt.cOgUHash);cpo.onload = function() {history.replaceState(null, null, ogU);}}document.getElementsByTagName(\\'head\\')[0].appendChild(cpo);}());</script><script defer src=\"https://static.cloudflareinsights.com/beacon.min.js/v84a3a4012de94ce1a686ba8c167c359c1696973893317\" integrity=\"sha512-euoFGowhlaLqXsPWQ48qSkBSCFs3DPRyiwVu3FjR96cMPx+Fr+gpWRhIafcHwqwCqWS42RZhIudOvEI+Ckf6MA==\" data-cf-beacon=\\'{\"rayId\":\"823772f329544a27\",\"b\":1,\"version\":\"2023.10.0\",\"token\":\"b829be10b6e3423b9a6251b99ecb58d7\"}\\' crossorigin=\"anonymous\"></script>\\n</body></html>'"
            ]
          },
          "metadata": {},
          "execution_count": 31
        }
      ]
    },
    {
      "cell_type": "code",
      "source": [
        "soup = BeautifulSoup(response.content)\n",
        "type(soup)"
      ],
      "metadata": {
        "colab": {
          "base_uri": "https://localhost:8080/"
        },
        "id": "KU0qi2THBGln",
        "outputId": "f5a1f20a-af97-4386-9d67-dcd491d690f5"
      },
      "execution_count": 32,
      "outputs": [
        {
          "output_type": "execute_result",
          "data": {
            "text/plain": [
              "bs4.BeautifulSoup"
            ]
          },
          "metadata": {},
          "execution_count": 32
        }
      ]
    },
    {
      "cell_type": "code",
      "source": [
        "soup"
      ],
      "metadata": {
        "id": "Kw8TKGg4BHdW",
        "outputId": "7d8145ac-b757-4aed-ee43-88dc4cb82c49",
        "colab": {
          "base_uri": "https://localhost:8080/"
        }
      },
      "execution_count": 33,
      "outputs": [
        {
          "output_type": "execute_result",
          "data": {
            "text/plain": [
              "<!DOCTYPE html>\n",
              "<html lang=\"en-US\"><head><title>Just a moment...</title><meta content=\"text/html; charset=utf-8\" http-equiv=\"Content-Type\"/><meta content=\"IE=Edge\" http-equiv=\"X-UA-Compatible\"/><meta content=\"noindex,nofollow\" name=\"robots\"/><meta content=\"width=device-width,initial-scale=1\" name=\"viewport\"/><link href=\"/cdn-cgi/styles/challenges.css\" rel=\"stylesheet\"/><meta content=\"375\" http-equiv=\"refresh\"/></head><body class=\"no-js\"><div class=\"main-wrapper\" role=\"main\"><div class=\"main-content\"><noscript><div id=\"challenge-error-title\"><div class=\"h2\"><span class=\"icon-wrapper\"><div class=\"heading-icon warning-icon\"></div></span><span id=\"challenge-error-text\">Enable JavaScript and cookies to continue</span></div></div></noscript></div></div><script>(function(){window._cf_chl_opt={cvId: '2',cZone: \"investmint.ru\",cType: 'managed',cNounce: '17024',cRay: '823772f329544a27',cHash: '86776ccbb5815b1',cUPMDTk: \"\\/?__cf_chl_tk=c.Us4vWmd8em8oyamClSZPGrm8H9AVd4AWCg58KeSDU-1699547517-0-gaNycGzNCmU\",cFPWv: 'g',cTTimeMs: '1000',cMTimeMs: '375000',cTplV: 5,cTplB: 'cf',cK: \"visitor-time\",fa: \"\\/?__cf_chl_f_tk=c.Us4vWmd8em8oyamClSZPGrm8H9AVd4AWCg58KeSDU-1699547517-0-gaNycGzNCmU\",md: \"Y7fdKn47qxIIT5M3JWX6PRbjkiNZTkkBOONM1YqvKak-1699547517-0-AWfaQZpig47VH3laiWa4coL-Sh-zEjZXc0wy3Uest9W4Rno1m2CrH3KNJQ8ZPijVLgR48rSwDZC818o6nfMQRmrzzlh5XmsmSEXrz5JmTyYLAQM5ZH7iN5HbZWFyEPtuoSsgz_IhSLRofEeUxGBs-AALhflYR-RrINqYBMZphEVYE8wfMM2USNulWvFVKnSK-gj67yLjiqaC-OA-OGN79E_1e3TCAw3Nr5qxQDphZPJEZY91_ZsmwLGcoP-Uy5SnxacKnrujqGCjgrL0ODBp8ZXHlffPgfYIzjDVGhU9MIj43cymHobKVn2FjT3_2MlVQp9PbeuMvNSNjPrh3o4YzebE8sggpu-x9rWzAK7Nf3SrLFCoQ9PYnkhtjSCUpbEIOJ2tYWKoMVp1-ycxl1xPfoZrZF3WJxYmIaaKPgQ8f7Vw_76-7iRkd8kJMz0uOGvdyWk1nrXbX_LUqbnnIby34GdUVlvwRCsZX-QuDjl0LGRcjyTfLHuc5vGjdHAkImqwCHnfjduMfejoTsEAkq6sVZSXoOTLApfQmPa-dMZmB5oyenndMGid-76a6IM9lzU2VBIe96xyxIWhH0NcQxaMnH1sdIGRr2le81ZKHhjmUZrraJuGy39fyjPMk9AtZkNM-xggOfPEwD0mvbkYyxesZhWyn0N_IGSnWLnxh44BWI1Lri9cztKRQhBJTF1PYpiIQWTkO2UK-NJxacMaMxhZ9DmkPbVM2YLJt3J_nAW7upzA_rKzYTG287Q4RFOjg1XcF4yK1NMWenKrfDRwqXiHxv5s8cSepyIyXYYkI4gfqs8-PiqMANMez2iMdHKbLuIgkt1680kmEIHKFSpekffFBHtYIeYMnbh8qn24mxAkOwJnZWjbKEXIztTqEb2EfLWzTI5AfNQNgtWAV0ailrtz4hGMKI3fWCeO45qHimBusU5DMAsP3ocfr2BWSw9pWiKQBqVEuSSu4cS_pFA-4HUnJ3g2ovFZOwLS58c1vScaMwIc8vUReFnhBIZAW6qHlTBcm7pB5EtRIN5QP3lZ4YQP_haBusJpshT4H6qqRIT1gjt0HJ3xwEo7WqvxNERWVGgRTdXQyNRJdUh2bcqgJGNxmssMKNAvJhRLnrd9uqtcWPsb9fsidARCoitTbFaNh8vaPW4PzYjyOGFBxsE3TLyojVYnBRDy5z3YPSNQ2NznlpJh_xxMlFySym_NmczAHfMtey1ehSUEqzeapcaE3GW2rbQLSpA__CLPvTJ1WYI3yYeq1rLN13qdGPzl0P6iOgytX6xNe3JyD36o2hG5oMO7Va7ycFNyZp1nEWkXGEiObF6uJA9E27uC55uVPebbB05nITStNlxMEp-0L108rq92bcAPga713M7v6_OVLv0uqHpiV7DYN2Nr1MmAw4gLPm79924R1aKojilkZL0GO_J1lXeTSCkW7SPylx59C9Bl4rza8G8ooJzIIufCYUynSF9MpH72RDeaGJi6p6vJRWCHVQNLmvH9wSlLRfaf54SIuMQLqkEIAw6np48nYVR3lDWL_sYpMc-Ylij-qVkzmDT_15O4mBbKJ7kxGuCJXkBq27KKBvm0qf4wxLKfEelMYN7azSN2jGvbAJPh5hlmPCykAx6n2PzXuTPf-IJn_iPHx3neJPIdyUOnAeqnhtwV4aag0Pg7GvF-K4sjejmuR2ELwhJ0v3WLIcjk1y2_weSjgXvJvD9XUUcPQUBh5EF9oXgkUdyvC67UchDGSNS6dJuEQYmpPb0G22LpY4AoAlKYw2nHvUkz4kslgy48NSOh7fOgI07P0qo9TDDggcadEz7WNzrRNy4hEXoBkb3AC_PxfZ_phI9tLhcs0laPfsVyV3Zy8L3y8129HhPtXYOdJyuQNCTLJ15OQbnIHFd9sJ-tgXuxUgBp1p_Gv4RsxTY5vjcAlVQpYrwUfC45U9rKvNCxWzcCulPNmTJQowxDYZSHweYIWXhT-sQcJRZTx_qqx7YBJ7WhZpNs0aN51pnJT3ThfGqQmax5wnxkvsQwYJwtEZNoNN8RpuXtE13fbRhbp_npGANUoMzt6mk2gX7WsFlO8eMy9f3JNSqAd6xl627_vxr6u8N6q-zxQF7XhekrHgLOrebJZjfg-jv5isqE5FZqrcxdsfnoePbgytL6rQzSqAOkTgVV-5krEGat0DoKhRCV38sLgjyWtxJBhKcfLuB0PaPBB8sKA4iisArfzEBhJvQjU0zy6gT19XyTgF_6Jmy01l36P-PyFB_az3B3JNn5GnQC8ZYDkzbbMpvdCgjeCaSxd08JS1XDGrHAq0vYbdi2pSS1CTBXZVRKNlyARP0coelE3ARRCfwsMTCWwoTws95DB4TI9EtOcX3ecJ7-v1kPepIZe42wrMGRyH0rZEC3564N3Vweht-W3Tu8_4ranalrrNbXBXKdbD1oPcb0S7K6106mZZVDoWm_vzGxXdZ3hScFuPvPZAZiNqm6XtiUn7QieW8jIci3ZlhyppmGANeVuEqZfhfVYLa9CzgAFc_wKL_XizKwMoOvywpChdY6hzsMLhOvKMMpbqpMEFg0M7aloS0vrUxeEULiYe1LCcIvtIc165U9_hzG-ceTM_9A_LpY\",cRq: {ru: 'aHR0cHM6Ly9pbnZlc3RtaW50LnJ1Lw==',ra: 'cHl0aG9uLXJlcXVlc3RzLzIuMzEuMA==',rm: 'R0VU',d: 'VxR92nGgtwD3B8l6o71GijZ1M1/a6GlCduDoKQ4R0mdhTmBohHx5h4uFk3tWN4sy+akARm+nnyXoN/b8x15CEcrkNEavtkPNH/qx3Xha/PdmB0THpA3pM1Y7y2zLhNEzJKmxSFD1jYtFjGBYbOPbWzVaEmY5Tn4yD8F1ZllUtk9MDzwcb9aXOeom+1EvcNcbogh2qzLbGYCvOU4rS8DvpdjsDmNgj7F3hMbe7rkb/c0BbcyPDaEZquh30lvQqjnJSsVAZtZ2gzQNBsiY4mD6VZAr9sSXg5xBqMyQ3SkTGWjN6NDmD5kAX467DL22WwVA3zpWjN3XDyKaxkpohQ5ZSwpEAFuc3WbiH1hNVatUXmtR5dDzX3RPIpmfs9gbBLahuy1W+PDZPv+2+cSW6ikI0Zm1sH70t+yPWRFnZNCPuIAzH22my1dqn0cY2BfbmLOnwpYa6T0ZhbditFuFXceUZBl3I7ecthwfB+bK6WKtwOg5I86Uu5OgveWgPpkjnqXYGH1ixenpmQACecIwx4s+3HuUQ9oLM4IrKxSioMzkFYMUnD4DQA3rYbaahCE/LcdOCrHVP3iA56Sjh/8mGADxfSg5Zy02EgtSwCvID97QEnQ=',t: 'MTY5OTU0NzUxNy45NTIwMDA=',cT: Math.floor(Date.now() / 1000),m: '8E19dIeyGLAymll9eb4Oqa/Gxo7a6EJFfv+OsHbeEjU=',i1: 'i5CRQJ/9bCyeKW7jZvzHcw==',i2: 'CCpdvDCR7lnHBwoqk01SyA==',zh: 'fhc8elcjCJdTtHwafgNBiMnDmGqJx4KCXHLgtJqgpBI=',uh: 'YE9XOpG5TeHmhA1zfs5mxC8CrRZzq2a/+r+OU7dliYQ=',hh: 'l3DB8MULqlTboHnQEgH54QY8+MhakuLVBCxs5Q+Hjx8=',}};var cpo = document.createElement('script');cpo.src = '/cdn-cgi/challenge-platform/h/g/orchestrate/chl_page/v1?ray=823772f329544a27';window._cf_chl_opt.cOgUHash = location.hash === '' && location.href.indexOf('#') !== -1 ? '#' : location.hash;window._cf_chl_opt.cOgUQuery = location.search === '' && location.href.slice(0, location.href.length - window._cf_chl_opt.cOgUHash.length).indexOf('?') !== -1 ? '?' : location.search;if (window.history && window.history.replaceState) {var ogU = location.pathname + window._cf_chl_opt.cOgUQuery + window._cf_chl_opt.cOgUHash;history.replaceState(null, null, \"\\/?__cf_chl_rt_tk=c.Us4vWmd8em8oyamClSZPGrm8H9AVd4AWCg58KeSDU-1699547517-0-gaNycGzNCmU\" + window._cf_chl_opt.cOgUHash);cpo.onload = function() {history.replaceState(null, null, ogU);}}document.getElementsByTagName('head')[0].appendChild(cpo);}());</script><script crossorigin=\"anonymous\" data-cf-beacon='{\"rayId\":\"823772f329544a27\",\"b\":1,\"version\":\"2023.10.0\",\"token\":\"b829be10b6e3423b9a6251b99ecb58d7\"}' defer=\"\" integrity=\"sha512-euoFGowhlaLqXsPWQ48qSkBSCFs3DPRyiwVu3FjR96cMPx+Fr+gpWRhIafcHwqwCqWS42RZhIudOvEI+Ckf6MA==\" src=\"https://static.cloudflareinsights.com/beacon.min.js/v84a3a4012de94ce1a686ba8c167c359c1696973893317\"></script>\n",
              "</body></html>"
            ]
          },
          "metadata": {},
          "execution_count": 33
        }
      ]
    },
    {
      "cell_type": "code",
      "source": [
        "names = soup.body.findAll('div')\n",
        "\n",
        "print(names)"
      ],
      "metadata": {
        "colab": {
          "base_uri": "https://localhost:8080/"
        },
        "id": "kRFX1CKD2MqV",
        "outputId": "2b5a3481-7e2a-4c56-c69d-117d36d2a907"
      },
      "execution_count": 40,
      "outputs": [
        {
          "output_type": "stream",
          "name": "stdout",
          "text": [
            "[<div class=\"main-wrapper\" role=\"main\"><div class=\"main-content\"><noscript><div id=\"challenge-error-title\"><div class=\"h2\"><span class=\"icon-wrapper\"><div class=\"heading-icon warning-icon\"></div></span><span id=\"challenge-error-text\">Enable JavaScript and cookies to continue</span></div></div></noscript></div></div>, <div class=\"main-content\"><noscript><div id=\"challenge-error-title\"><div class=\"h2\"><span class=\"icon-wrapper\"><div class=\"heading-icon warning-icon\"></div></span><span id=\"challenge-error-text\">Enable JavaScript and cookies to continue</span></div></div></noscript></div>, <div id=\"challenge-error-title\"><div class=\"h2\"><span class=\"icon-wrapper\"><div class=\"heading-icon warning-icon\"></div></span><span id=\"challenge-error-text\">Enable JavaScript and cookies to continue</span></div></div>, <div class=\"h2\"><span class=\"icon-wrapper\"><div class=\"heading-icon warning-icon\"></div></span><span id=\"challenge-error-text\">Enable JavaScript and cookies to continue</span></div>, <div class=\"heading-icon warning-icon\"></div>]\n"
          ]
        }
      ]
    }
  ]
}